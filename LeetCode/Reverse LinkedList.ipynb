{
 "cells": [
  {
   "cell_type": "code",
   "execution_count": null,
   "metadata": {},
   "outputs": [],
   "source": [
    "#增加遞迴深度\n",
    "import sys\n",
    "\n",
    "sys.setrecursionlimit(9000000)"
   ]
  },
  {
   "cell_type": "code",
   "execution_count": 17,
   "metadata": {},
   "outputs": [],
   "source": [
    "class LinkedNode(object):\n",
    "    def __init__(self, x):\n",
    "        self.val = x\n",
    "        self.next = None\n",
    "    def __str__(self):\n",
    "        res = str(self.val)\n",
    "        if self.next:\n",
    "            res += str(self.next)\n",
    "        return res\n",
    "class Solution(object):\n",
    "        def reverse(self, head):\n",
    "            if head is None or head.next is None:\n",
    "                return head\n",
    "            p = self.reverse(head.next)\n",
    "            head.next.next = head\n",
    "            head.next = None\n",
    "            return p\n",
    "        \n",
    "        def reverseIter(self, head):\n",
    "            curr = head\n",
    "            prev = None\n",
    "            while curr:\n",
    "                temp = curr.next\n",
    "                curr.next = prev\n",
    "                prev = curr\n",
    "                curr = temp\n",
    "            return prev\n",
    "                \n"
   ]
  },
  {
   "cell_type": "code",
   "execution_count": 24,
   "metadata": {},
   "outputs": [
    {
     "name": "stdout",
     "output_type": "stream",
     "text": [
      "12345\n"
     ]
    }
   ],
   "source": [
    "ans = Solution()\n",
    "test = LinkedNode(5)\n",
    "test.next = LinkedNode(4)\n",
    "test.next.next = LinkedNode(3)\n",
    "test.next.next.next = LinkedNode(2)\n",
    "test.next.next.next.next = LinkedNode(1)\n",
    "\n",
    "print(ans.reverse(test))"
   ]
  },
  {
   "cell_type": "code",
   "execution_count": 25,
   "metadata": {},
   "outputs": [
    {
     "name": "stdout",
     "output_type": "stream",
     "text": [
      "12345\n"
     ]
    }
   ],
   "source": [
    "test = LinkedNode(5)\n",
    "test.next = LinkedNode(4)\n",
    "test.next.next = LinkedNode(3)\n",
    "test.next.next.next = LinkedNode(2)\n",
    "test.next.next.next.next = LinkedNode(1)\n",
    "\n",
    "print(ans.reverseIter(test))"
   ]
  },
  {
   "cell_type": "code",
   "execution_count": 20,
   "metadata": {},
   "outputs": [],
   "source": []
  },
  {
   "cell_type": "code",
   "execution_count": 21,
   "metadata": {},
   "outputs": [],
   "source": []
  },
  {
   "cell_type": "code",
   "execution_count": 22,
   "metadata": {},
   "outputs": [],
   "source": [
    "\n"
   ]
  },
  {
   "cell_type": "code",
   "execution_count": 23,
   "metadata": {},
   "outputs": [
    {
     "name": "stdout",
     "output_type": "stream",
     "text": [
      "12345\n",
      "5\n"
     ]
    }
   ],
   "source": []
  },
  {
   "cell_type": "code",
   "execution_count": null,
   "metadata": {},
   "outputs": [],
   "source": []
  }
 ],
 "metadata": {
  "kernelspec": {
   "display_name": "Python 3",
   "language": "python",
   "name": "python3"
  },
  "language_info": {
   "codemirror_mode": {
    "name": "ipython",
    "version": 3
   },
   "file_extension": ".py",
   "mimetype": "text/x-python",
   "name": "python",
   "nbconvert_exporter": "python",
   "pygments_lexer": "ipython3",
   "version": "3.7.4"
  }
 },
 "nbformat": 4,
 "nbformat_minor": 4
}
