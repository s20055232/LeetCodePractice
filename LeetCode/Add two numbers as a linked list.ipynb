{
 "cells": [
  {
   "cell_type": "code",
   "execution_count": 60,
   "metadata": {},
   "outputs": [],
   "source": [
    "class Node(object):\n",
    "    def __init__(self, x):\n",
    "        self.val = x\n",
    "        self.next = None\n",
    "    "
   ]
  },
  {
   "cell_type": "code",
   "execution_count": 61,
   "metadata": {},
   "outputs": [],
   "source": [
    "class Solution:\n",
    "    def AddTwoNum(self, l1: Node, l2: Node):\n",
    "        return self.AddTwoNumRec(l1, l2, 0)\n",
    "\n",
    "    def AddTwoNumRec(self, l1, l2, c):\n",
    "        val = l1.val + l2.val + c\n",
    "        c = val // 10\n",
    "        left = Node(val%10)\n",
    "        if l1.next!=None or l2.next!=None:\n",
    "            if l1.next==None:\n",
    "                l1.next = Node(0)\n",
    "            if l2.next==None:\n",
    "                l2.next = Node(0)\n",
    "            left.next = self.AddTwoNumRec(l1.next, l2.next, c)\n",
    "        elif c:\n",
    "            left.next = Node(c)\n",
    "        return left"
   ]
  },
  {
   "cell_type": "code",
   "execution_count": 62,
   "metadata": {},
   "outputs": [
    {
     "name": "stdout",
     "output_type": "stream",
     "text": [
      "7 0 8 "
     ]
    }
   ],
   "source": [
    "l1 = Node(2)\n",
    "l1.next = Node(4)\n",
    "l1.next.next = Node(3)\n",
    "\n",
    "l2 = Node(5)\n",
    "l2.next = Node(6)\n",
    "l2.next.next = Node(4)\n",
    "\n",
    "answer = Solution().AddTwoNum(l1, l2)\n",
    "while answer:\n",
    "    print(answer.val, end=' ')\n",
    "    answer = answer.next\n",
    "# print(answer)"
   ]
  },
  {
   "cell_type": "code",
   "execution_count": 47,
   "metadata": {},
   "outputs": [
    {
     "name": "stdout",
     "output_type": "stream",
     "text": [
      "0\n"
     ]
    }
   ],
   "source": [
    "print(answer.next.val)"
   ]
  },
  {
   "cell_type": "code",
   "execution_count": 67,
   "metadata": {},
   "outputs": [],
   "source": [
    "class Solution2:\n",
    "    def AddTwoNum(self, l1: Node, l2: Node):\n",
    "\n",
    "        return self.AddTwoNumIter(l1, l2, 0)\n",
    "    \n",
    "    def AddTwoNumIter(self, l1, l2, c):\n",
    "        ret = current = None\n",
    "        \n",
    "        while l1 or l2:\n",
    "            val = l1.val + l2.val + c\n",
    "            c = val // 10\n",
    "            if not current: # First time\n",
    "                # ret -> First Number\n",
    "                ret = current = Node(val % 10)\n",
    "            else: # After times\n",
    "                current.next = Node(val % 10)\n",
    "                current = current.next\n",
    "                \n",
    "            if l1.next or l2.next:\n",
    "                if not l1.next:\n",
    "                    l1.next = Node(0)\n",
    "                if not l2.next:\n",
    "                    l2.next = Node(0)\n",
    "            elif c:\n",
    "                current.next = Node(c)\n",
    "                \n",
    "            l1 = l1.next\n",
    "            l2 = l2.next\n",
    "            \n",
    "        return ret"
   ]
  },
  {
   "cell_type": "code",
   "execution_count": 68,
   "metadata": {},
   "outputs": [
    {
     "name": "stdout",
     "output_type": "stream",
     "text": [
      "7 0 8 "
     ]
    }
   ],
   "source": [
    "l1 = Node(2)\n",
    "l1.next = Node(4)\n",
    "l1.next.next = Node(3)\n",
    "\n",
    "l2 = Node(5)\n",
    "l2.next = Node(6)\n",
    "l2.next.next = Node(4)\n",
    "\n",
    "answer = Solution2().AddTwoNum(l1, l2)\n",
    "while answer:\n",
    "    print(answer.val, end=' ')\n",
    "    answer = answer.next"
   ]
  },
  {
   "cell_type": "code",
   "execution_count": null,
   "metadata": {},
   "outputs": [],
   "source": []
  }
 ],
 "metadata": {
  "kernelspec": {
   "display_name": "Python 3",
   "language": "python",
   "name": "python3"
  },
  "language_info": {
   "codemirror_mode": {
    "name": "ipython",
    "version": 3
   },
   "file_extension": ".py",
   "mimetype": "text/x-python",
   "name": "python",
   "nbconvert_exporter": "python",
   "pygments_lexer": "ipython3",
   "version": "3.7.4"
  }
 },
 "nbformat": 4,
 "nbformat_minor": 4
}
