{
 "cells": [
  {
   "cell_type": "code",
   "execution_count": 8,
   "metadata": {},
   "outputs": [
    {
     "name": "stdout",
     "output_type": "stream",
     "text": [
      "Answer 1 =[1]\n",
      "Answer 2 = 1\n"
     ]
    }
   ],
   "source": [
    "import collections\n",
    "class Solution(object):\n",
    "    def SingleNumber(self, Numbers):\n",
    "        # fill this in.\n",
    "        res = collections.Counter()\n",
    "        res1 = []\n",
    "        for i in Numbers:\n",
    "            res[i] += 1\n",
    "        for i in res:\n",
    "            if res[i] % 2 == 1:\n",
    "                res1.append(i)\n",
    "        return res1\n",
    "    # Tricky 解法，像是開關，第一次遇到就打開，第二次遇到關掉，剩下“打開”的就是解答\n",
    "    def SingleNumber_2(self, Numbers):\n",
    "        unique = 0\n",
    "        for i in Numbers:\n",
    "            unique ^= i\n",
    "        return unique\n",
    "            \n",
    "a = Solution()\n",
    "print('Answer 1 = '+ str(a.SingleNumber([4, 3, 2, 4, 1, 3, 2])))\n",
    "print('Answer 2 = '+ str(a.SingleNumber_2([4, 3, 2, 4, 1, 3, 2])))"
   ]
  },
  {
   "cell_type": "code",
   "execution_count": null,
   "metadata": {},
   "outputs": [],
   "source": []
  }
 ],
 "metadata": {
  "kernelspec": {
   "display_name": "Python 3",
   "language": "python",
   "name": "python3"
  },
  "language_info": {
   "codemirror_mode": {
    "name": "ipython",
    "version": 3
   },
   "file_extension": ".py",
   "mimetype": "text/x-python",
   "name": "python",
   "nbconvert_exporter": "python",
   "pygments_lexer": "ipython3",
   "version": "3.7.4"
  }
 },
 "nbformat": 4,
 "nbformat_minor": 4
}
