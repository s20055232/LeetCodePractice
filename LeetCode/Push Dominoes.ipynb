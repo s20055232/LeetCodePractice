{
 "cells": [
  {
   "cell_type": "code",
   "execution_count": 23,
   "metadata": {},
   "outputs": [],
   "source": [
    "class Solution(object):\n",
    "    def pushDominoes(self, dominoes: str) -> str:\n",
    "        n = len(dominoes)\n",
    "        res = [0] * n\n",
    "        force = 0\n",
    "        for i in range(n):\n",
    "            if dominoes[i] == 'R':\n",
    "                force = n\n",
    "            elif dominoes[i] == 'L':\n",
    "                force = 0\n",
    "            else:\n",
    "                force = max(force - 1,0)\n",
    "            res[i] += force\n",
    "        \n",
    "        for i in range(n-1, -1, -1):\n",
    "            if dominoes[i] == 'R':\n",
    "                force = 0\n",
    "            elif dominoes[i] == 'L':\n",
    "                force = n\n",
    "            else:\n",
    "                force = max(force-1, 0)\n",
    "            res[i] -= force\n",
    "        #print(res)\n",
    "        def translate(res):\n",
    "            res_str = ''\n",
    "            for i in res:\n",
    "                if i > 0:\n",
    "                    res_str += 'R'\n",
    "                elif i < 0:\n",
    "                    res_str += 'L'\n",
    "                else:\n",
    "                    res_str += '.'\n",
    "            return res_str\n",
    "        \n",
    "        return translate(res)"
   ]
  },
  {
   "cell_type": "code",
   "execution_count": 24,
   "metadata": {},
   "outputs": [
    {
     "data": {
      "text/plain": [
       "'LL.RR.LLRRLL..'"
      ]
     },
     "execution_count": 24,
     "metadata": {},
     "output_type": "execute_result"
    }
   ],
   "source": [
    "test = '.L.R...LR..L..'\n",
    "Solution().pushDominoes(test)"
   ]
  },
  {
   "cell_type": "code",
   "execution_count": 2,
   "metadata": {},
   "outputs": [
    {
     "name": "stdout",
     "output_type": "stream",
     "text": [
      "3\n"
     ]
    }
   ],
   "source": [
    "s = 'abc'\n",
    "print(len(s))"
   ]
  },
  {
   "cell_type": "code",
   "execution_count": 30,
   "metadata": {},
   "outputs": [
    {
     "data": {
      "text/plain": [
       "'[1, 2, 3, 4, 5]'"
      ]
     },
     "execution_count": 30,
     "metadata": {},
     "output_type": "execute_result"
    }
   ],
   "source": [
    "test_list = [1,2,3,4,5,]\n",
    "\"\".join(str(test_list))"
   ]
  },
  {
   "cell_type": "code",
   "execution_count": null,
   "metadata": {},
   "outputs": [],
   "source": []
  },
  {
   "cell_type": "code",
   "execution_count": null,
   "metadata": {},
   "outputs": [],
   "source": []
  }
 ],
 "metadata": {
  "kernelspec": {
   "display_name": "Python 3",
   "language": "python",
   "name": "python3"
  },
  "language_info": {
   "codemirror_mode": {
    "name": "ipython",
    "version": 3
   },
   "file_extension": ".py",
   "mimetype": "text/x-python",
   "name": "python",
   "nbconvert_exporter": "python",
   "pygments_lexer": "ipython3",
   "version": "3.7.4"
  }
 },
 "nbformat": 4,
 "nbformat_minor": 4
}
