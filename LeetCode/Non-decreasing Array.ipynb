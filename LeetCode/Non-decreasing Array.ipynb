{
 "cells": [
  {
   "cell_type": "markdown",
   "metadata": {},
   "source": [
    "## Joma 解法"
   ]
  },
  {
   "cell_type": "code",
   "execution_count": 37,
   "metadata": {},
   "outputs": [],
   "source": [
    "class Solution(object):\n",
    "    def checkProssibility(self, nums):\n",
    "        idx = None\n",
    "        for i in range(len(nums)-1):\n",
    "            if nums[i] > nums[i+1]: \n",
    "                if idx is not None:\n",
    "                    return False\n",
    "                idx = i\n",
    "        if idx == None:\n",
    "            return True\n",
    "        if idx == 0:\n",
    "            return True\n",
    "        if idx == len(nums)-2:\n",
    "            return True\n",
    "        if nums[idx+2] >= nums[idx]:\n",
    "            return True\n",
    "        if nums[idx+1] >= nums[idx-1]:\n",
    "            return True\n",
    "        return False"
   ]
  },
  {
   "cell_type": "code",
   "execution_count": 38,
   "metadata": {},
   "outputs": [
    {
     "data": {
      "text/plain": [
       "True"
      ]
     },
     "execution_count": 38,
     "metadata": {},
     "output_type": "execute_result"
    }
   ],
   "source": [
    "nums = [4,2,3]\n",
    "Solution().checkProssibility(nums)"
   ]
  },
  {
   "cell_type": "code",
   "execution_count": 39,
   "metadata": {},
   "outputs": [
    {
     "data": {
      "text/plain": [
       "True"
      ]
     },
     "execution_count": 39,
     "metadata": {},
     "output_type": "execute_result"
    }
   ],
   "source": [
    "nums = [-1,4,2,3]\n",
    "Solution().checkProssibility(nums)"
   ]
  },
  {
   "cell_type": "code",
   "execution_count": null,
   "metadata": {},
   "outputs": [],
   "source": [
    "[2,3,3,2,4]"
   ]
  },
  {
   "cell_type": "markdown",
   "metadata": {},
   "source": [
    "## 笨解法"
   ]
  },
  {
   "cell_type": "code",
   "execution_count": null,
   "metadata": {},
   "outputs": [],
   "source": [
    "class Solution(object):\n",
    "    def checkPossibility(self, A):\n",
    "        def monotone_increasing(arr):\n",
    "            for i in range(len(arr) - 1):\n",
    "                if arr[i] > arr[i+1]:\n",
    "                    return False\n",
    "            return True\n",
    "\n",
    "        new = A[:]\n",
    "        for i in xrange(len(A)):\n",
    "            old_ai = A[i]\n",
    "            new[i] = new[i-1] if i > 0 else float('-inf')\n",
    "            if monotone_increasing(new):\n",
    "                return True\n",
    "            new[i] = old_ai\n",
    "\n",
    "        return False"
   ]
  },
  {
   "cell_type": "code",
   "execution_count": 48,
   "metadata": {},
   "outputs": [],
   "source": [
    "class Solution(object):\n",
    "    def checkPossibility(self, nums):\n",
    "        def work_or_Not(new):\n",
    "            for i in range(len(new)-1):\n",
    "                if new[i] > new[i +1]:\n",
    "                    return False\n",
    "            return True\n",
    "        new = nums[:]\n",
    "        for i in range(len(nums)-1):\n",
    "            temp = nums[i]\n",
    "            new[i] = new[i-1] if i>0 else float('-inf')\n",
    "            if work_or_Not(new):\n",
    "                return True\n",
    "            new[i] = temp\n",
    "            \n",
    "        return False"
   ]
  },
  {
   "cell_type": "code",
   "execution_count": 49,
   "metadata": {},
   "outputs": [
    {
     "data": {
      "text/plain": [
       "True"
      ]
     },
     "execution_count": 49,
     "metadata": {},
     "output_type": "execute_result"
    }
   ],
   "source": [
    "nums = [-1,4,2,3]\n",
    "Solution().checkPossibility(nums)"
   ]
  },
  {
   "cell_type": "code",
   "execution_count": 51,
   "metadata": {},
   "outputs": [
    {
     "data": {
      "text/plain": [
       "True"
      ]
     },
     "execution_count": 51,
     "metadata": {},
     "output_type": "execute_result"
    }
   ],
   "source": [
    "nums = [4,2,3]\n",
    "Solution().checkPossibility(nums)"
   ]
  },
  {
   "cell_type": "code",
   "execution_count": null,
   "metadata": {},
   "outputs": [],
   "source": []
  }
 ],
 "metadata": {
  "kernelspec": {
   "display_name": "Python 3",
   "language": "python",
   "name": "python3"
  },
  "language_info": {
   "codemirror_mode": {
    "name": "ipython",
    "version": 3
   },
   "file_extension": ".py",
   "mimetype": "text/x-python",
   "name": "python",
   "nbconvert_exporter": "python",
   "pygments_lexer": "ipython3",
   "version": "3.7.4"
  }
 },
 "nbformat": 4,
 "nbformat_minor": 4
}
