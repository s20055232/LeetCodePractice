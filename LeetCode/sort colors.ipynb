{
 "cells": [
  {
   "cell_type": "code",
   "execution_count": 70,
   "metadata": {},
   "outputs": [],
   "source": [
    "# mine\n",
    "class Solution:\n",
    "    def SortColor(self, nums):\n",
    "        dic = {}\n",
    "        for i in nums:\n",
    "            if not i in dic:\n",
    "                dic[i] = 1\n",
    "            else:\n",
    "                dic[i] += 1\n",
    "        return ([0] * dic[0])+ ([1] * dic[1]) + ([2] * dic[2])\n",
    "    def SortColor2(self, nums):\n",
    "        index = 0\n",
    "        small_index = 0\n",
    "        big_index = len(nums)-1\n",
    "        while(index <= big_index):\n",
    "            if nums[index] == 0:\n",
    "                nums[index], nums[small_index] = nums[small_index], nums[index]\n",
    "                index += 1\n",
    "                small_index +=1\n",
    "            elif nums[index] == 1:\n",
    "                index +=1\n",
    "            else:\n",
    "                nums[index], nums[big_index] = nums[big_index], nums[index] \n",
    "                big_index -= 1\n",
    "        return nums"
   ]
  },
  {
   "cell_type": "code",
   "execution_count": 71,
   "metadata": {},
   "outputs": [
    {
     "name": "stdout",
     "output_type": "stream",
     "text": [
      "[0, 0, 1, 1, 2, 2]\n"
     ]
    }
   ],
   "source": [
    "test = [2,0,2,1,1,0]\n",
    "Solution().SortColor(test)\n",
    "Solution().SortColor2(test)\n",
    "print(test)"
   ]
  },
  {
   "cell_type": "code",
   "execution_count": 22,
   "metadata": {},
   "outputs": [],
   "source": [
    "# techlead\n",
    "def SC(nums):\n",
    "    dic = {}\n",
    "    for i in nums:\n",
    "        dic[i] = dic.get(i, 0) + 1\n",
    "    return ([0] * dic[0])+ ([1] * dic[1]) + ([2] * dic[2])"
   ]
  },
  {
   "cell_type": "code",
   "execution_count": 23,
   "metadata": {},
   "outputs": [
    {
     "data": {
      "text/plain": [
       "[0, 0, 1, 1, 2, 2]"
      ]
     },
     "execution_count": 23,
     "metadata": {},
     "output_type": "execute_result"
    }
   ],
   "source": [
    "# test 0\n",
    "SC(test)"
   ]
  },
  {
   "cell_type": "code",
   "execution_count": 65,
   "metadata": {},
   "outputs": [],
   "source": [
    "# leetCode 75\n",
    "def SC(nums):\n",
    "    dic = {}\n",
    "    for i in nums:\n",
    "        dic[i] = dic.get(i, 0) + 1\n",
    "    for i in range(len(nums)):\n",
    "        if i < dic.get(0, 0):\n",
    "            nums[i] = 0\n",
    "        elif i < dic.get(0, 0) + dic.get(1, 0):\n",
    "            nums[i] = 1\n",
    "        else:\n",
    "            nums[i] = 2"
   ]
  },
  {
   "cell_type": "code",
   "execution_count": 66,
   "metadata": {},
   "outputs": [
    {
     "name": "stdout",
     "output_type": "stream",
     "text": [
      "[0, 0, 1, 1, 2, 2]\n"
     ]
    }
   ],
   "source": [
    "# test 0\n",
    "test = [2,0,2,1,1,0]\n",
    "SC(test)\n",
    "print(test)"
   ]
  },
  {
   "cell_type": "code",
   "execution_count": 67,
   "metadata": {},
   "outputs": [
    {
     "data": {
      "text/plain": [
       "[1, 2, 2]"
      ]
     },
     "execution_count": 67,
     "metadata": {},
     "output_type": "execute_result"
    }
   ],
   "source": [
    "# test 1\n",
    "test1 = [2,2,1]\n",
    "SC(test1)\n",
    "test1"
   ]
  },
  {
   "cell_type": "code",
   "execution_count": 72,
   "metadata": {},
   "outputs": [
    {
     "data": {
      "text/plain": [
       "[0, 1, 2]"
      ]
     },
     "execution_count": 72,
     "metadata": {},
     "output_type": "execute_result"
    }
   ],
   "source": [
    "test2 = [2,0,1]\n",
    "Solution().SortColor2(test2)"
   ]
  },
  {
   "cell_type": "code",
   "execution_count": null,
   "metadata": {},
   "outputs": [],
   "source": []
  }
 ],
 "metadata": {
  "kernelspec": {
   "display_name": "Python 3",
   "language": "python",
   "name": "python3"
  },
  "language_info": {
   "codemirror_mode": {
    "name": "ipython",
    "version": 3
   },
   "file_extension": ".py",
   "mimetype": "text/x-python",
   "name": "python",
   "nbconvert_exporter": "python",
   "pygments_lexer": "ipython3",
   "version": "3.7.4"
  }
 },
 "nbformat": 4,
 "nbformat_minor": 4
}
