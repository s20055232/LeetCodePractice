{
 "cells": [
  {
   "cell_type": "code",
   "execution_count": 13,
   "metadata": {},
   "outputs": [],
   "source": [
    "class Solution(object):\n",
    "    def Find_Pythagorean_Triplets(self, nums):\n",
    "        # Time Complexity O(n^3)\n",
    "        for a in nums:\n",
    "            for b in nums:\n",
    "                for c in nums:\n",
    "                    if a*a + b*b == c*c:\n",
    "                        return True\n",
    "        return False\n",
    "    \n",
    "    def Find_Pythagorean_Triplets_faster(self, nums):\n",
    "        # Time Complexity O(n^2)\n",
    "        res = set([n*n for n in nums])\n",
    "        for a in nums:\n",
    "            for b in nums:\n",
    "                if a*a + b*b in res:\n",
    "                    return True\n",
    "        return False"
   ]
  },
  {
   "cell_type": "code",
   "execution_count": 14,
   "metadata": {},
   "outputs": [
    {
     "data": {
      "text/plain": [
       "True"
      ]
     },
     "execution_count": 14,
     "metadata": {},
     "output_type": "execute_result"
    }
   ],
   "source": [
    "nums = [3,5,12,5,13]\n",
    "res = Solution()\n",
    "# Test Function 1\n",
    "res.Find_Pythagorean_Triplets(nums)"
   ]
  },
  {
   "cell_type": "code",
   "execution_count": 15,
   "metadata": {},
   "outputs": [
    {
     "data": {
      "text/plain": [
       "True"
      ]
     },
     "execution_count": 15,
     "metadata": {},
     "output_type": "execute_result"
    }
   ],
   "source": [
    "# Test Function 2\n",
    "res.Find_Pythagorean_Triplets_faster(nums)"
   ]
  },
  {
   "cell_type": "code",
   "execution_count": null,
   "metadata": {},
   "outputs": [],
   "source": []
  }
 ],
 "metadata": {
  "kernelspec": {
   "display_name": "Python 3",
   "language": "python",
   "name": "python3"
  },
  "language_info": {
   "codemirror_mode": {
    "name": "ipython",
    "version": 3
   },
   "file_extension": ".py",
   "mimetype": "text/x-python",
   "name": "python",
   "nbconvert_exporter": "python",
   "pygments_lexer": "ipython3",
   "version": "3.7.4"
  }
 },
 "nbformat": 4,
 "nbformat_minor": 4
}
