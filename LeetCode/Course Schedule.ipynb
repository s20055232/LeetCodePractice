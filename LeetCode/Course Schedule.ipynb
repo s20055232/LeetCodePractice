{
 "cells": [
  {
   "cell_type": "code",
   "execution_count": 34,
   "metadata": {},
   "outputs": [],
   "source": [
    "class Solution:\n",
    "    def canFinish(self, numCourses, prerequisites):\n",
    "        graph = collections.defaultdict(list)\n",
    "        for edge in prerequisites:\n",
    "            graph[edge[0]].append(edge[1])\n",
    "\n",
    "        visited = set()\n",
    "\n",
    "    # True if there is a cycle, False if not\n",
    "        def visit(vertex):\n",
    "            visited.add(vertex)\n",
    "            for neighbour in graph[vertex]:\n",
    "                if neighbour in visited or visit(neighbour):\n",
    "                    return True\n",
    "            visited.remove(vertex)\n",
    "            return False\n",
    "\n",
    "        for i in range(numCourses):\n",
    "            if visit(i):\n",
    "                return False\n",
    "        return True"
   ]
  },
  {
   "cell_type": "code",
   "execution_count": 35,
   "metadata": {},
   "outputs": [
    {
     "data": {
      "text/plain": [
       "True"
      ]
     },
     "execution_count": 35,
     "metadata": {},
     "output_type": "execute_result"
    }
   ],
   "source": [
    "numCourses = 2\n",
    "prerequisites = [[1,0]]\n",
    "Solution().canFinish(numCourses, prerequisites)"
   ]
  },
  {
   "cell_type": "code",
   "execution_count": 20,
   "metadata": {},
   "outputs": [
    {
     "name": "stdout",
     "output_type": "stream",
     "text": [
      "defaultdict(<class 'list'>, {'a': [1, 2], 'b': [3], 'c': [4]})\n"
     ]
    }
   ],
   "source": [
    "import collections\n",
    "a = [('a',1),('a',2),('b',3),('c',4)]\n",
    "test = collections.defaultdict(list)\n",
    "for key,val in a:\n",
    "    test[key].append(val)\n",
    "print(test)"
   ]
  },
  {
   "cell_type": "code",
   "execution_count": 25,
   "metadata": {},
   "outputs": [
    {
     "name": "stdout",
     "output_type": "stream",
     "text": [
      "defaultdict(<class 'list'>, {1: [2], 3: [4]})\n"
     ]
    }
   ],
   "source": [
    "a = [[1,2],[3,4]]\n",
    "dd = collections.defaultdict(list)\n",
    "for i in a:\n",
    "    dd[i[0]].append(i[1])\n",
    "print(dd)"
   ]
  }
 ],
 "metadata": {
  "kernelspec": {
   "display_name": "Python 3",
   "language": "python",
   "name": "python3"
  },
  "language_info": {
   "codemirror_mode": {
    "name": "ipython",
    "version": 3
   },
   "file_extension": ".py",
   "mimetype": "text/x-python",
   "name": "python",
   "nbconvert_exporter": "python",
   "pygments_lexer": "ipython3",
   "version": "3.7.4"
  }
 },
 "nbformat": 4,
 "nbformat_minor": 4
}
