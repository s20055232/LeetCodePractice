{
 "cells": [
  {
   "cell_type": "code",
   "execution_count": 18,
   "metadata": {},
   "outputs": [
    {
     "name": "stdout",
     "output_type": "stream",
     "text": [
      "True\n",
      "False\n",
      "False\n"
     ]
    }
   ],
   "source": [
    "# Definition for a binary tree node.\n",
    "class TreeNode:\n",
    "    def __init__(self, x):\n",
    "        self.val = x\n",
    "        self.left = None\n",
    "        self.right = None\n",
    "\n",
    "class Solution:\n",
    "    def isValidBST(self, root):\n",
    "        def helper(node, lower, upper):\n",
    "            if not node:\n",
    "                return True\n",
    "            val = node.val\n",
    "            if val <= lower or val >= upper:\n",
    "                return False\n",
    "            if not helper(node.right, val, upper):\n",
    "                return False\n",
    "            if not helper(node.left, lower, val):\n",
    "                return False\n",
    "            return True\n",
    "        return helper(root, float('-inf'), float('inf'))\n",
    "\n",
    "node = TreeNode(5)\n",
    "node.left = TreeNode(4)\n",
    "node.right = TreeNode(7)\n",
    "print(Solution().isValidBST(node))\n",
    "# True\n",
    "node.left.left = TreeNode(3)\n",
    "node.left.right = TreeNode(6)\n",
    "print(Solution().isValidBST(node))\n",
    "# False\n",
    "tree = TreeNode(3)\n",
    "tree.left = TreeNode(3)\n",
    "print(Solution().isValidBST(tree))\n",
    "# False"
   ]
  },
  {
   "cell_type": "code",
   "execution_count": 6,
   "metadata": {},
   "outputs": [
    {
     "name": "stdout",
     "output_type": "stream",
     "text": [
      "True\n",
      "False\n",
      "False\n",
      "True\n"
     ]
    }
   ],
   "source": [
    "class TreeNode:\n",
    "    def __init__(self, val):\n",
    "        self.val = val\n",
    "        self.left = None\n",
    "        self.right = None\n",
    "\n",
    "class Solution:\n",
    "    def isValidBST(self, node: TreeNode)->bool:\n",
    "        return self.helper(float('-inf'), node, float('inf'))\n",
    "    def helper(self, lower, root, upper):\n",
    "            if not root:\n",
    "                return True\n",
    "            val = root.val\n",
    "            if val<=lower or val>=upper:\n",
    "                return False\n",
    "            if not self.helper(lower, root.left, val):\n",
    "                return False\n",
    "            if not self.helper(val, root.right, upper):\n",
    "                return False\n",
    "            return True\n",
    "\n",
    "node = TreeNode(5)\n",
    "node.left = TreeNode(4)\n",
    "node.right = TreeNode(7)\n",
    "print(Solution().isValidBST(node))\n",
    "# True\n",
    "node.left.left = TreeNode(3)\n",
    "node.left.right = TreeNode(6)\n",
    "print(Solution().isValidBST(node))\n",
    "# False\n",
    "tree = TreeNode(3)\n",
    "tree.left = TreeNode(3)\n",
    "print(Solution().isValidBST(tree))\n",
    "# False\n",
    "big = TreeNode(7)\n",
    "big.left = TreeNode(4)\n",
    "big.left.left = TreeNode(2)\n",
    "big.left.left.left = TreeNode(1)\n",
    "big.left.left.right = TreeNode(3)\n",
    "big.left.right = TreeNode(5)\n",
    "big.left.right.right = TreeNode(6)\n",
    "big.right = TreeNode(8)\n",
    "big.right.right = TreeNode(9)\n",
    "print(Solution().isValidBST(big))\n",
    "# True"
   ]
  },
  {
   "cell_type": "code",
   "execution_count": null,
   "metadata": {},
   "outputs": [],
   "source": []
  }
 ],
 "metadata": {
  "kernelspec": {
   "display_name": "Python 3",
   "language": "python",
   "name": "python3"
  },
  "language_info": {
   "codemirror_mode": {
    "name": "ipython",
    "version": 3
   },
   "file_extension": ".py",
   "mimetype": "text/x-python",
   "name": "python",
   "nbconvert_exporter": "python",
   "pygments_lexer": "ipython3",
   "version": "3.7.4"
  }
 },
 "nbformat": 4,
 "nbformat_minor": 4
}
