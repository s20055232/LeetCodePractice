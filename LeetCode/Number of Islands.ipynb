{
 "cells": [
  {
   "cell_type": "code",
   "execution_count": 15,
   "metadata": {},
   "outputs": [],
   "source": [
    "from typing import List\n",
    "\n",
    "class Solution:\n",
    "    def numIslands(self, grid: List[List[str]]) -> int:\n",
    "        def sinkIsland(grid, r, c):\n",
    "            if grid[r][c] == '1':\n",
    "                grid[r][c] = '0'\n",
    "            else:\n",
    "                return\n",
    "            if r + 1 < len(grid):\n",
    "                sinkIsland(grid, r+1, c)\n",
    "            if r - 1 >= 0:\n",
    "                sinkIsland(grid, r-1, c)\n",
    "            if c + 1 < len(grid[r]):\n",
    "                sinkIsland(grid, r, c +1)\n",
    "            if c - 1 >= 0:\n",
    "                sinkIsland(grid, r, c-1)\n",
    "        count = 0\n",
    "        for r in range(len(grid)):\n",
    "            for c in range(len(grid[r])):\n",
    "                if grid[r][c] == '1':\n",
    "                    count += 1\n",
    "                    sinkIsland(grid, r, c)\n",
    "        return count"
   ]
  },
  {
   "cell_type": "code",
   "execution_count": 16,
   "metadata": {},
   "outputs": [
    {
     "data": {
      "text/plain": [
       "1"
      ]
     },
     "execution_count": 16,
     "metadata": {},
     "output_type": "execute_result"
    }
   ],
   "source": [
    "test = [[\"1\",\"1\",\"1\",\"1\",\"0\"],[\"1\",\"1\",\"0\",\"1\",\"0\"],[\"1\",\"1\",\"0\",\"0\",\"0\"],[\"0\",\"0\",\"0\",\"0\",\"0\"]]\n",
    "Solution().numIslands(test)"
   ]
  }
 ],
 "metadata": {
  "kernelspec": {
   "display_name": "Python 3",
   "language": "python",
   "name": "python3"
  },
  "language_info": {
   "codemirror_mode": {
    "name": "ipython",
    "version": 3
   },
   "file_extension": ".py",
   "mimetype": "text/x-python",
   "name": "python",
   "nbconvert_exporter": "python",
   "pygments_lexer": "ipython3",
   "version": "3.7.4"
  }
 },
 "nbformat": 4,
 "nbformat_minor": 4
}
