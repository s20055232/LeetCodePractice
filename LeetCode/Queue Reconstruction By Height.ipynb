{
 "cells": [
  {
   "cell_type": "code",
   "execution_count": 21,
   "metadata": {},
   "outputs": [],
   "source": [
    "class Solution:\n",
    "    def reconstructQueue(self, people_list):\n",
    "        people_list.sort(key=lambda x: (-x[0],x[1]))\n",
    "        res = []\n",
    "        for i in people_list:\n",
    "            res.insert(i[1], i)\n",
    "        return res"
   ]
  },
  {
   "cell_type": "code",
   "execution_count": 22,
   "metadata": {},
   "outputs": [
    {
     "name": "stdout",
     "output_type": "stream",
     "text": [
      "[[5, 0], [7, 0], [5, 2], [6, 1], [4, 4], [7, 1]]\n"
     ]
    }
   ],
   "source": [
    "people = [[7, 0], [4, 4], [7, 1], [5, 0], [6, 1], [5, 2]]\n",
    "print(Solution().reconstructQueue(people))"
   ]
  },
  {
   "cell_type": "code",
   "execution_count": 16,
   "metadata": {},
   "outputs": [],
   "source": [
    "def sortHelper(elem):\n",
    "    # 前面元素優先，負號代表reverse，大到小排序的意思\n",
    "    # 以這個例子，會優先排序第一個元素，由大到小，遇到第一個元素的值一樣時，用第二個元素排序\n",
    "    return (-elem[0], elem[1])"
   ]
  },
  {
   "cell_type": "code",
   "execution_count": 17,
   "metadata": {},
   "outputs": [
    {
     "data": {
      "text/plain": [
       "[[4, 4], [5, 0], [5, 2], [6, 1], [7, 0], [7, 1]]"
      ]
     },
     "execution_count": 17,
     "metadata": {},
     "output_type": "execute_result"
    }
   ],
   "source": [
    "people = [[7, 0], [4, 4], [7, 1], [5, 0], [6, 1], [5, 2]]\n",
    "people.sort(key=sortHelper)\n",
    "people"
   ]
  },
  {
   "cell_type": "code",
   "execution_count": null,
   "metadata": {},
   "outputs": [],
   "source": []
  }
 ],
 "metadata": {
  "kernelspec": {
   "display_name": "Python 3",
   "language": "python",
   "name": "python3"
  },
  "language_info": {
   "codemirror_mode": {
    "name": "ipython",
    "version": 3
   },
   "file_extension": ".py",
   "mimetype": "text/x-python",
   "name": "python",
   "nbconvert_exporter": "python",
   "pygments_lexer": "ipython3",
   "version": "3.7.4"
  }
 },
 "nbformat": 4,
 "nbformat_minor": 4
}
