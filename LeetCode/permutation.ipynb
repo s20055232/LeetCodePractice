{
 "cells": [
  {
   "cell_type": "code",
   "execution_count": 3,
   "metadata": {},
   "outputs": [
    {
     "name": "stdout",
     "output_type": "stream",
     "text": [
      "[[1, 2, 3], [1, 3, 2], [2, 1, 3], [2, 3, 1], [3, 2, 1], [3, 1, 2]]\n"
     ]
    }
   ],
   "source": [
    "class Solution:\n",
    "    def permute( , nums):\n",
    "        res = []\n",
    "\n",
    "        def permuteHelper(start):\n",
    "            if start == len(nums) - 1:\n",
    "                res.append(nums[:])\n",
    "            for i in range(start, len(nums)):\n",
    "                nums[start], nums[i] = nums[i], nums[start]\n",
    "                permuteHelper(start + 1)\n",
    "                nums[start], nums[i] = nums[i], nums[start]\n",
    "        permuteHelper(0)\n",
    "        return res\n",
    "\n",
    "print(Solution().permute([1, 2, 3]))"
   ]
  },
  {
   "cell_type": "code",
   "execution_count": 14,
   "metadata": {},
   "outputs": [
    {
     "name": "stdout",
     "output_type": "stream",
     "text": [
      "[[1, 2, 3, 4], [1, 2, 4, 3], [1, 3, 2, 4], [1, 3, 4, 2], [1, 4, 3, 2], [1, 4, 2, 3], [2, 1, 3, 4], [2, 1, 4, 3], [2, 3, 1, 4], [2, 3, 4, 1], [2, 4, 3, 1], [2, 4, 1, 3], [3, 2, 1, 4], [3, 2, 4, 1], [3, 1, 2, 4], [3, 1, 4, 2], [3, 4, 1, 2], [3, 4, 2, 1], [4, 2, 3, 1], [4, 2, 1, 3], [4, 3, 2, 1], [4, 3, 1, 2], [4, 1, 3, 2], [4, 1, 2, 3]]\n"
     ]
    }
   ],
   "source": [
    "class Solution:\n",
    "    def permute(self, nums):\n",
    "        res = []\n",
    "        return self.permuteHelper(0, nums, res)\n",
    "    def permuteHelper(self, start, nums, res):# start指階段，\n",
    "        # 執行到最後一階段，得到其中一種可能性，加入到陣列中\n",
    "        if start == len(nums) - 1:\n",
    "            res.append(nums[:])\n",
    "        for i in range(start, len(nums)):\n",
    "            nums[start], nums[i] = nums[i], nums[start]\n",
    "            self.permuteHelper(start + 1, nums, res)\n",
    "            nums[start], nums[i] = nums[i], nums[start]\n",
    "        return res\n",
    "\n",
    "print(Solution().permute([1, 2, 3,4]))"
   ]
  },
  {
   "cell_type": "code",
   "execution_count": null,
   "metadata": {},
   "outputs": [],
   "source": [
    "class Solution:\n",
    "    def permute(self, nums):\n",
    "        res = []\n",
    "        return self.permuteHelper(0, nums, res)\n",
    "    def permuteHelper(self, start, nums, res):\n",
    "        if start == len(nums)-1:\n",
    "            res.append(nums)\n",
    "        for i in range(start, len(nums)):\n",
    "            nums[start], nums[i] = nums[i], nums[start]\n",
    "            self.permuteHelper(start+1, nums, res)\n",
    "            nums[start], nums[i] = nums[i], nums[start]\n",
    "        return res\n",
    "    "
   ]
  }
 ],
 "metadata": {
  "kernelspec": {
   "display_name": "Python 3",
   "language": "python",
   "name": "python3"
  },
  "language_info": {
   "codemirror_mode": {
    "name": "ipython",
    "version": 3
   },
   "file_extension": ".py",
   "mimetype": "text/x-python",
   "name": "python",
   "nbconvert_exporter": "python",
   "pygments_lexer": "ipython3",
   "version": "3.7.4"
  }
 },
 "nbformat": 4,
 "nbformat_minor": 4
}
