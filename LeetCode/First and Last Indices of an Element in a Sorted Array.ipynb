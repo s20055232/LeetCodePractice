{
 "cells": [
  {
   "cell_type": "code",
   "execution_count": 11,
   "metadata": {},
   "outputs": [
    {
     "name": "stdout",
     "output_type": "stream",
     "text": [
      "[6, 8]\n"
     ]
    }
   ],
   "source": [
    "class Solution:\n",
    "    def getRange(self, arr, target):\n",
    "        first = self.binarySearch(arr, 0, len(arr) - 1, target, True)\n",
    "        last = self.binarySearch(arr, 0, len(arr) - 1, target, False)\n",
    "        return [first, last]\n",
    "\n",
    "    def binarySearch(self, arr, low, high, target, findFirst):\n",
    "        if high < low:\n",
    "            return -1\n",
    "        mid = low + (high - low) // 2\n",
    "        if findFirst:\n",
    "            if (mid == 0 or target > arr[mid - 1]) and arr[mid] == target:\n",
    "                return mid\n",
    "            if target > arr[mid]:\n",
    "                return self.binarySearch(arr, mid + 1, high, target, findFirst)\n",
    "            else:\n",
    "                return self.binarySearch(arr, low, mid - 1, target, findFirst)\n",
    "        else:\n",
    "            if (mid == len(arr)-1 or target < arr[mid + 1]) and arr[mid] == target:\n",
    "                return mid\n",
    "            elif target < arr[mid]:\n",
    "                return self.binarySearch(arr, low, mid - 1, target, findFirst)\n",
    "            else:\n",
    "                return self.binarySearch(arr, mid + 1, high, target, findFirst)\n",
    "\n",
    "\n",
    "arr = [1, 3, 3, 5, 7, 8, 9, 9, 9, 15]\n",
    "x = 9\n",
    "print(Solution().getRange(arr, 9))\n",
    "# [6, 8]"
   ]
  },
  {
   "cell_type": "code",
   "execution_count": 25,
   "metadata": {},
   "outputs": [
    {
     "name": "stdout",
     "output_type": "stream",
     "text": [
      "[6, 8]\n"
     ]
    }
   ],
   "source": [
    "class Solution:\n",
    "    def getRange(self, arr, target):\n",
    "        first = self.binarySearch(arr, 0, len(arr)-1, target, True)\n",
    "        last = self.binarySearch(arr, 0, len(arr)-1, target, False)\n",
    "        return [first,last]\n",
    "    \n",
    "    def binarySearch(self, arr, low, high, target, findFirst):\n",
    "        if high < low:\n",
    "            return -1\n",
    "        # 假如遇到float('inf')這種high，先加會突破系統上限，所以要先減完再加\n",
    "        mid = low + (high - low)//2\n",
    "        if findFirst:\n",
    "            # 如果最後發現值是第一個的時候mid==0\n",
    "            if (mid==0 or arr[mid-1]<target) and arr[mid] == target:\n",
    "                return mid\n",
    "            elif target>arr[mid]:\n",
    "                return self.binarySearch(arr, mid+1, high, target, findFirst)\n",
    "            # 往前找，<=\n",
    "            else:\n",
    "                return self.binarySearch(arr, low, mid-1, target, findFirst)\n",
    "        else:\n",
    "            #如果發現值是最後一個的時候mid==len(arr)-1\n",
    "            if (mid==len(arr)-1 or arr[mid+1]>target) and arr[mid] == target:\n",
    "                return mid\n",
    "            elif target < arr[mid]:\n",
    "                return self.binarySearch(arr, low, mid - 1, target, findFirst)\n",
    "            # 往後找，>=\n",
    "            else:\n",
    "                return self.binarySearch(arr, mid + 1, high, target, findFirst)\n",
    "\n",
    "arr = [1, 3, 3, 5, 7, 8, 9, 9, 9, 15]\n",
    "x = 9\n",
    "print(Solution().getRange(arr, 9))\n",
    "# [6, 8]"
   ]
  },
  {
   "cell_type": "code",
   "execution_count": null,
   "metadata": {},
   "outputs": [],
   "source": []
  }
 ],
 "metadata": {
  "kernelspec": {
   "display_name": "Python 3",
   "language": "python",
   "name": "python3"
  },
  "language_info": {
   "codemirror_mode": {
    "name": "ipython",
    "version": 3
   },
   "file_extension": ".py",
   "mimetype": "text/x-python",
   "name": "python",
   "nbconvert_exporter": "python",
   "pygments_lexer": "ipython3",
   "version": "3.7.4"
  }
 },
 "nbformat": 4,
 "nbformat_minor": 4
}
