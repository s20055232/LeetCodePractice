{
 "cells": [
  {
   "cell_type": "code",
   "execution_count": 3,
   "metadata": {},
   "outputs": [],
   "source": [
    "import collections\n",
    "\n",
    "class Solution:\n",
    "    def canContruct(self, ransomNote: list, Magazine: list)->bool:\n",
    "        mag_dict = collections.defaultdict(int)\n",
    "        for i in Magazine:\n",
    "            mag_dict[i] += 1\n",
    "        for i in ransomNote:\n",
    "            mag_dict[i] -= 1\n",
    "            if mag_dict[i]<0:\n",
    "                return False\n",
    "        return True"
   ]
  },
  {
   "cell_type": "code",
   "execution_count": 5,
   "metadata": {},
   "outputs": [
    {
     "name": "stdout",
     "output_type": "stream",
     "text": [
      "Answer : True\n",
      "Answer : False\n"
     ]
    }
   ],
   "source": [
    "# Test 1\n",
    "ran = ['a','b','c','c']\n",
    "mag = ['a','b','c','c','c']\n",
    "test_1 = Solution().canContruct(ran, mag)\n",
    "print('Answer :',test_1)\n",
    "## True\n",
    "#Test 2\n",
    "ran = ['a','b','c','c']\n",
    "mag = ['a','b','c',]\n",
    "test_1 = Solution().canContruct(ran, mag)\n",
    "print('Answer :',test_1)\n",
    "## False"
   ]
  },
  {
   "cell_type": "code",
   "execution_count": 6,
   "metadata": {},
   "outputs": [],
   "source": [
    "import collections\n",
    "\n",
    "class Solution:\n",
    "    def canContruct(self, ransomNote: list, Magazine: list)->bool:\n",
    "        mag_dict = collections.Counter()\n",
    "        for i in Magazine:\n",
    "            mag_dict[i] += 1\n",
    "        for i in ransomNote:\n",
    "            mag_dict[i] -= 1\n",
    "            if mag_dict[i]<0:\n",
    "                return False\n",
    "        return True"
   ]
  },
  {
   "cell_type": "code",
   "execution_count": 7,
   "metadata": {},
   "outputs": [
    {
     "name": "stdout",
     "output_type": "stream",
     "text": [
      "Answer : True\n",
      "Answer : False\n"
     ]
    }
   ],
   "source": [
    "# Test 1\n",
    "ran = ['a','b','c','c']\n",
    "mag = ['a','b','c','c','c']\n",
    "test_1 = Solution().canContruct(ran, mag)\n",
    "print('Answer :',test_1)\n",
    "## True\n",
    "#Test 2\n",
    "ran = ['a','b','c','c']\n",
    "mag = ['a','b','c',]\n",
    "test_1 = Solution().canContruct(ran, mag)\n",
    "print('Answer :',test_1)\n",
    "## False"
   ]
  },
  {
   "cell_type": "code",
   "execution_count": null,
   "metadata": {},
   "outputs": [],
   "source": []
  }
 ],
 "metadata": {
  "kernelspec": {
   "display_name": "Python 3",
   "language": "python",
   "name": "python3"
  },
  "language_info": {
   "codemirror_mode": {
    "name": "ipython",
    "version": 3
   },
   "file_extension": ".py",
   "mimetype": "text/x-python",
   "name": "python",
   "nbconvert_exporter": "python",
   "pygments_lexer": "ipython3",
   "version": "3.7.4"
  }
 },
 "nbformat": 4,
 "nbformat_minor": 4
}
