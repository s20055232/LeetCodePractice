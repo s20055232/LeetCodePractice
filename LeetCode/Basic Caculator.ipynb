{
 "cells": [
  {
   "cell_type": "code",
   "execution_count": 3,
   "metadata": {},
   "outputs": [],
   "source": [
    "class Solution(object):\n",
    "    def _eval_helper(self, expression, index):\n",
    "        result = 0\n",
    "        opt = '+'\n",
    "        while index < len(expression):\n",
    "            now = expression[index]\n",
    "            if now in ['+','-']:\n",
    "                opt = now\n",
    "            else:\n",
    "                if now.isdigit():\n",
    "                    if opt == '+':\n",
    "                        result += int(now)\n",
    "                    if opt == '-':\n",
    "                        result -= int(now)\n",
    "                if now == '(':\n",
    "                    self._eval_helper(expresion, index+1)\n",
    "            index += 1\n",
    "        return result\n",
    "    \n",
    "    def eval(self, expression):\n",
    "        return self._eval_helper(expression, 0)"
   ]
  },
  {
   "cell_type": "code",
   "execution_count": 5,
   "metadata": {},
   "outputs": [
    {
     "name": "stdout",
     "output_type": "stream",
     "text": [
      "15\n",
      "0\n"
     ]
    }
   ],
   "source": [
    "print(Solution().eval('(1 + (2 + (3 + (4 + 5))))'))\n",
    "print(Solution().eval('1+(2-3)'))"
   ]
  },
  {
   "cell_type": "code",
   "execution_count": 22,
   "metadata": {},
   "outputs": [],
   "source": [
    "class Solution(object):\n",
    "    def calculate(self, s):\n",
    "        num, sign, res = 0, 1, 0\n",
    "        stack = []\n",
    "        for char in s:\n",
    "            if char.isdigit():\n",
    "                num = num * 10 + int(char)\n",
    "            elif char in ['+','-']:\n",
    "                res = res + num * sign\n",
    "                num = 0\n",
    "                sign = 1 if char=='+' else -1\n",
    "            elif char == '(':\n",
    "                stack.append(res)\n",
    "                stack.append(sign)\n",
    "                res = 0\n",
    "                sign = 1\n",
    "            elif char == ')':\n",
    "                res = res + num * sign\n",
    "                num = 0\n",
    "                sign = 1\n",
    "                res *= stack.pop()\n",
    "                res += stack.pop()\n",
    "        res = res + num * sign\n",
    "        return res"
   ]
  },
  {
   "cell_type": "code",
   "execution_count": 23,
   "metadata": {},
   "outputs": [
    {
     "data": {
      "text/plain": [
       "2"
      ]
     },
     "execution_count": 23,
     "metadata": {},
     "output_type": "execute_result"
    }
   ],
   "source": [
    "Solution().calculate('(1+2)+(3-4)')\n"
   ]
  },
  {
   "cell_type": "code",
   "execution_count": null,
   "metadata": {},
   "outputs": [],
   "source": []
  },
  {
   "cell_type": "code",
   "execution_count": null,
   "metadata": {},
   "outputs": [],
   "source": []
  }
 ],
 "metadata": {
  "kernelspec": {
   "display_name": "Python 3",
   "language": "python",
   "name": "python3"
  },
  "language_info": {
   "codemirror_mode": {
    "name": "ipython",
    "version": 3
   },
   "file_extension": ".py",
   "mimetype": "text/x-python",
   "name": "python",
   "nbconvert_exporter": "python",
   "pygments_lexer": "ipython3",
   "version": "3.7.4"
  }
 },
 "nbformat": 4,
 "nbformat_minor": 4
}
