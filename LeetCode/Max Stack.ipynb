{
 "cells": [
  {
   "cell_type": "code",
   "execution_count": 18,
   "metadata": {},
   "outputs": [],
   "source": [
    "class MaxStack(object):\n",
    "    def __init__(self):\n",
    "        self.stack = []\n",
    "        self.maxes = []\n",
    "    \n",
    "    def pop(self):\n",
    "        self.maxes.pop()\n",
    "        return self.stack.pop()\n",
    "    def push(self, x):\n",
    "        self.stack.append(x)\n",
    "        if self.maxes and x < self.maxes[-1]:\n",
    "            self.maxes.append(self.maxes[-1])\n",
    "        else:\n",
    "            self.maxes.append(x)    \n",
    "    def max_one(self):\n",
    "        return self.maxes[-1]"
   ]
  },
  {
   "cell_type": "code",
   "execution_count": 21,
   "metadata": {},
   "outputs": [
    {
     "name": "stdout",
     "output_type": "stream",
     "text": [
      "max 3\n",
      "2\n",
      "max 3\n",
      "3\n",
      "max 2\n",
      "2\n",
      "max 1\n",
      "1\n"
     ]
    }
   ],
   "source": [
    "s = MaxStack()\n",
    "s.push(1)\n",
    "s.push(2)\n",
    "s.push(3)\n",
    "s.push(2)\n",
    "print('max', s.max_one())\n",
    "print(s.pop())\n",
    "print('max', s.max_one())\n",
    "print(s.pop())\n",
    "print('max', s.max_one())\n",
    "print(s.pop())\n",
    "print('max', s.max_one())\n",
    "print(s.pop())\n",
    "# max 3\n",
    "# 2\n",
    "# max 3\n",
    "# 3\n",
    "# max 2\n",
    "# 2\n",
    "# max 1\n",
    "# 1"
   ]
  },
  {
   "cell_type": "code",
   "execution_count": null,
   "metadata": {},
   "outputs": [],
   "source": []
  }
 ],
 "metadata": {
  "kernelspec": {
   "display_name": "Python 3",
   "language": "python",
   "name": "python3"
  },
  "language_info": {
   "codemirror_mode": {
    "name": "ipython",
    "version": 3
   },
   "file_extension": ".py",
   "mimetype": "text/x-python",
   "name": "python",
   "nbconvert_exporter": "python",
   "pygments_lexer": "ipython3",
   "version": "3.7.4"
  }
 },
 "nbformat": 4,
 "nbformat_minor": 4
}
